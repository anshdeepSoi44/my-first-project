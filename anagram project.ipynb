{
 "cells": [
  {
   "cell_type": "code",
   "execution_count": 1,
   "id": "cca496f2",
   "metadata": {},
   "outputs": [
    {
     "name": "stdout",
     "output_type": "stream",
     "text": [
      "boat\n"
     ]
    }
   ],
   "source": [
    "w= \"boat\"\n",
    "print(w)\n"
   ]
  },
  {
   "cell_type": "code",
   "execution_count": 2,
   "id": "8ec802e5",
   "metadata": {},
   "outputs": [
    {
     "name": "stdout",
     "output_type": "stream",
     "text": [
      "['b', 'o', 'a', 't']\n"
     ]
    }
   ],
   "source": [
    "x=list(w)\n",
    "print(x)"
   ]
  },
  {
   "cell_type": "code",
   "execution_count": 6,
   "id": "082796c5",
   "metadata": {},
   "outputs": [
    {
     "name": "stdout",
     "output_type": "stream",
     "text": [
      "['a', 'o', 'b', 't']\n"
     ]
    }
   ],
   "source": [
    "def swap (x,pos1,pos2):\n",
    "   x[pos1],x[pos2]=x[pos2],x[pos1]\n",
    "   return x\n",
    "w1=swap(x,0,2)\n",
    "print(w1)"
   ]
  },
  {
   "cell_type": "code",
   "execution_count": 13,
   "id": "c9f75781",
   "metadata": {},
   "outputs": [],
   "source": [
    "str='' ''\n",
    "w3=str.join(w1)\n"
   ]
  },
  {
   "cell_type": "code",
   "execution_count": 14,
   "id": "17677bd2",
   "metadata": {},
   "outputs": [
    {
     "name": "stdout",
     "output_type": "stream",
     "text": [
      "aobt\n"
     ]
    }
   ],
   "source": [
    "print(w3)"
   ]
  },
  {
   "cell_type": "code",
   "execution_count": 6,
   "id": "740a418c",
   "metadata": {},
   "outputs": [
    {
     "name": "stdout",
     "output_type": "stream",
     "text": [
      "create\n"
     ]
    }
   ],
   "source": [
    "c=\"create\"\n",
    "print(c)"
   ]
  },
  {
   "cell_type": "code",
   "execution_count": 7,
   "id": "6aeace2f",
   "metadata": {},
   "outputs": [
    {
     "name": "stdout",
     "output_type": "stream",
     "text": [
      "['c', 'r', 'e', 'a', 't', 'e']\n"
     ]
    }
   ],
   "source": [
    "l=list(c)\n",
    "print(l)"
   ]
  },
  {
   "cell_type": "code",
   "execution_count": 8,
   "id": "1b64eb3f",
   "metadata": {},
   "outputs": [
    {
     "name": "stdout",
     "output_type": "stream",
     "text": [
      "['t', 'r', 'c', 'a', 'e', 'e']\n"
     ]
    }
   ],
   "source": [
    "def swap (c,pos1,pos2,pos3):\n",
    "    c[pos1],c[pos2],c[pos3]=c[pos3],c[pos1],c[pos2]\n",
    "    return c\n",
    "c1=swap(l,0,2,4)\n",
    "print(c1)          "
   ]
  },
  {
   "cell_type": "code",
   "execution_count": 9,
   "id": "6175aa06",
   "metadata": {},
   "outputs": [
    {
     "name": "stdout",
     "output_type": "stream",
     "text": [
      "t r c a e e\n"
     ]
    }
   ],
   "source": [
    "str =\" \"\n",
    "c2=str.join(c1)\n",
    "print(c2)"
   ]
  },
  {
   "cell_type": "code",
   "execution_count": 10,
   "id": "ef690539",
   "metadata": {},
   "outputs": [
    {
     "name": "stdout",
     "output_type": "stream",
     "text": [
      "['a', 'b', 'd', 'e']\n"
     ]
    }
   ],
   "source": []
  },
  {
   "cell_type": "code",
   "execution_count": 11,
   "id": "e2983ea9",
   "metadata": {},
   "outputs": [
    {
     "name": "stdout",
     "output_type": "stream",
     "text": [
      "enter a wordape\n",
      "enter a wordpea\n",
      "anagram\n"
     ]
    }
   ],
   "source": [
    "#anagram check\n",
    "a=input(\"enter a word\")\n",
    "b=input(\"enter a word\")\n",
    "x=sorted(a)\n",
    "y=sorted(b)\n",
    "if x==y:\n",
    "    print(\"anagram\")\n",
    "else:\n",
    "    (\"not anagram\")"
   ]
  },
  {
   "cell_type": "code",
   "execution_count": null,
   "id": "c957dc81",
   "metadata": {},
   "outputs": [],
   "source": []
  }
 ],
 "metadata": {
  "kernelspec": {
   "display_name": "Python 3 (ipykernel)",
   "language": "python",
   "name": "python3"
  },
  "language_info": {
   "codemirror_mode": {
    "name": "ipython",
    "version": 3
   },
   "file_extension": ".py",
   "mimetype": "text/x-python",
   "name": "python",
   "nbconvert_exporter": "python",
   "pygments_lexer": "ipython3",
   "version": "3.11.5"
  }
 },
 "nbformat": 4,
 "nbformat_minor": 5
}
